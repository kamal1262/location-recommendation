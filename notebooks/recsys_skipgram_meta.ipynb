{
 "cells": [
  {
   "cell_type": "code",
   "execution_count": 1,
   "metadata": {},
   "outputs": [],
   "source": [
    "import pickle\n",
    "import numpy as np\n",
    "import pandas as pd\n",
    "import pyarrow as pa\n",
    "import pyarrow.parquet as pq\n",
    "\n",
    "from itertools import groupby\n",
    "from joblib import Parallel, delayed\n",
    "from tqdm import tqdm, tqdm_notebook"
   ]
  },
  {
   "cell_type": "code",
   "execution_count": null,
   "metadata": {},
   "outputs": [],
   "source": [
    "# pq_table = pq.read_table('data/web_seq.parquet')\n",
    "# df = pq_table.to_pandas()"
   ]
  },
  {
   "cell_type": "code",
   "execution_count": 2,
   "metadata": {},
   "outputs": [],
   "source": [
    "df = pd.read_csv(\"data/sample.csv\")"
   ]
  },
  {
   "cell_type": "markdown",
   "metadata": {},
   "source": [
    "## Data preparations"
   ]
  },
  {
   "cell_type": "code",
   "execution_count": 3,
   "metadata": {},
   "outputs": [
    {
     "data": {
      "text/html": [
       "<div>\n",
       "<style scoped>\n",
       "    .dataframe tbody tr th:only-of-type {\n",
       "        vertical-align: middle;\n",
       "    }\n",
       "\n",
       "    .dataframe tbody tr th {\n",
       "        vertical-align: top;\n",
       "    }\n",
       "\n",
       "    .dataframe thead th {\n",
       "        text-align: right;\n",
       "    }\n",
       "</style>\n",
       "<table border=\"1\" class=\"dataframe\">\n",
       "  <thead>\n",
       "    <tr style=\"text-align: right;\">\n",
       "      <th></th>\n",
       "      <th>clientId</th>\n",
       "      <th>visitMYDateTime</th>\n",
       "      <th>visitId</th>\n",
       "      <th>visitNumber</th>\n",
       "      <th>hitNumber</th>\n",
       "      <th>level_1</th>\n",
       "      <th>level_2</th>\n",
       "      <th>level_3</th>\n",
       "      <th>map_location_3</th>\n",
       "      <th>map_location_2</th>\n",
       "      <th>map_location_1</th>\n",
       "      <th>global_id</th>\n",
       "      <th>legacy_id</th>\n",
       "      <th>location_type</th>\n",
       "      <th>display_name</th>\n",
       "    </tr>\n",
       "  </thead>\n",
       "  <tbody>\n",
       "    <tr>\n",
       "      <th>0</th>\n",
       "      <td>1500036865.1604922327</td>\n",
       "      <td>2020-11-09 19:45:27</td>\n",
       "      <td>1604922327</td>\n",
       "      <td>1</td>\n",
       "      <td>1</td>\n",
       "      <td>kuala lumpur</td>\n",
       "      <td>kl city</td>\n",
       "      <td>None</td>\n",
       "      <td>None</td>\n",
       "      <td>KL City</td>\n",
       "      <td>Kuala Lumpur</td>\n",
       "      <td>mycty_51978</td>\n",
       "      <td>51</td>\n",
       "      <td>CITY</td>\n",
       "      <td>kl city</td>\n",
       "    </tr>\n",
       "    <tr>\n",
       "      <th>1</th>\n",
       "      <td>929830187.1604893289</td>\n",
       "      <td>2020-11-09 11:43:19</td>\n",
       "      <td>1604893399</td>\n",
       "      <td>2</td>\n",
       "      <td>1</td>\n",
       "      <td>perak</td>\n",
       "      <td>gopeng</td>\n",
       "      <td>None</td>\n",
       "      <td>None</td>\n",
       "      <td>Gopeng</td>\n",
       "      <td>Perak</td>\n",
       "      <td>mycty_51778</td>\n",
       "      <td>466</td>\n",
       "      <td>CITY</td>\n",
       "      <td>gopeng</td>\n",
       "    </tr>\n",
       "  </tbody>\n",
       "</table>\n",
       "</div>"
      ],
      "text/plain": [
       "                clientId     visitMYDateTime     visitId  visitNumber  \\\n",
       "0  1500036865.1604922327 2020-11-09 19:45:27  1604922327            1   \n",
       "1   929830187.1604893289 2020-11-09 11:43:19  1604893399            2   \n",
       "\n",
       "   hitNumber       level_1  level_2 level_3 map_location_3 map_location_2  \\\n",
       "0          1  kuala lumpur  kl city    None           None        KL City   \n",
       "1          1         perak   gopeng    None           None         Gopeng   \n",
       "\n",
       "  map_location_1    global_id legacy_id location_type display_name  \n",
       "0   Kuala Lumpur  mycty_51978        51          CITY      kl city  \n",
       "1          Perak  mycty_51778       466          CITY       gopeng  "
      ]
     },
     "execution_count": 3,
     "metadata": {},
     "output_type": "execute_result"
    }
   ],
   "source": [
    "df[\"clientId\"] = df[\"clientId\"].astype(str)\n",
    "df[\"visitMYDateTime\"] =  pd.to_datetime(df[\"visitMYDateTime\"], format='%Y-%m-%dT%H:%M:%S.%f')\n",
    "df[\"visitId\"] = df[\"visitId\"].astype(str)\n",
    "df[\"visitNumber\"] = df[\"visitNumber\"].astype(int)\n",
    "df[\"hitNumber\"] = df[\"hitNumber\"].astype(int)\n",
    "df[\"level_1\"] = df[\"level_1\"].astype(str)\n",
    "df[\"level_2\"] = df[\"level_2\"].astype(str)\n",
    "df[\"level_3\"] = df[\"level_3\"].astype(str)\n",
    "df[\"map_location_3\"] = df[\"map_location_3\"].astype(str)\n",
    "df[\"map_location_2\"] = df[\"map_location_2\"].astype(str)\n",
    "df[\"map_location_1\"] = df[\"map_location_1\"].astype(str)\n",
    "df[\"global_id\"] = df[\"global_id\"].astype(str)\n",
    "df[\"legacy_id\"] = df[\"legacy_id\"].astype(str)\n",
    "df[\"location_type\"] = df[\"location_type\"].astype(str)\n",
    "df[\"display_name\"] = df[\"display_name\"].astype(str)\n",
    "\n",
    "list_clientId = df.clientId.unique().tolist()\n",
    "df.head(2)"
   ]
  },
  {
   "cell_type": "code",
   "execution_count": 4,
   "metadata": {},
   "outputs": [],
   "source": [
    "def display_name_mapping(x):\n",
    "    if x[\"location_type\"] == \"BUILDING_NAME\":\n",
    "        return x[\"bld_display_name\"]\n",
    "    if x[\"location_type\"] == \"STREET_NAME\":\n",
    "        return x[\"str_display_name\"]\n",
    "    if x[\"location_type\"] == \"COUNTRY\":\n",
    "        return x[\"country_display_name\"]\n",
    "    if x[\"location_type\"] == \"REGION\":\n",
    "        return x[\"region_display_name\"]\n",
    "    if x[\"location_type\"] == \"STATE\":\n",
    "        return x[\"state_display_name\"]\n",
    "    if x[\"location_type\"] == \"DISTRICT\":\n",
    "        return x[\"district_display_name\"]\n",
    "    if x[\"location_type\"] == \"DIVISION\":\n",
    "        return x[\"div_display_name\"]\n",
    "    if x[\"location_type\"] == \"CITY\":\n",
    "        return x[\"city_display_name\"]\n",
    "    if x[\"location_type\"] == \"POST_CODE\":\n",
    "        return x[\"postcode_display_name\"]"
   ]
  },
  {
   "cell_type": "code",
   "execution_count": 5,
   "metadata": {},
   "outputs": [
    {
     "data": {
      "text/html": [
       "<div>\n",
       "<style scoped>\n",
       "    .dataframe tbody tr th:only-of-type {\n",
       "        vertical-align: middle;\n",
       "    }\n",
       "\n",
       "    .dataframe tbody tr th {\n",
       "        vertical-align: top;\n",
       "    }\n",
       "\n",
       "    .dataframe thead th {\n",
       "        text-align: right;\n",
       "    }\n",
       "</style>\n",
       "<table border=\"1\" class=\"dataframe\">\n",
       "  <thead>\n",
       "    <tr style=\"text-align: right;\">\n",
       "      <th></th>\n",
       "      <th>location_id</th>\n",
       "      <th>global_id</th>\n",
       "      <th>legacy_id</th>\n",
       "      <th>location_type</th>\n",
       "      <th>location_name</th>\n",
       "      <th>geo_coordinate</th>\n",
       "      <th>country_display_name</th>\n",
       "      <th>region_display_name</th>\n",
       "      <th>state_display_name</th>\n",
       "      <th>city_display_name</th>\n",
       "      <th>postcode_display_name</th>\n",
       "      <th>district_display_name</th>\n",
       "      <th>div_display_name</th>\n",
       "      <th>str_display_name</th>\n",
       "      <th>bld_display_name</th>\n",
       "      <th>display_name</th>\n",
       "      <th>map_location_1</th>\n",
       "      <th>map_location_2</th>\n",
       "      <th>map_location_3</th>\n",
       "    </tr>\n",
       "  </thead>\n",
       "  <tbody>\n",
       "    <tr>\n",
       "      <th>0</th>\n",
       "      <td>5eb32ff0-46cc-48a2-a3f3-4032c04f4d32</td>\n",
       "      <td>bld_67258</td>\n",
       "      <td>7067</td>\n",
       "      <td>BUILDING_NAME</td>\n",
       "      <td>the amber residence</td>\n",
       "      <td>POINT(101.519839 2.971741)</td>\n",
       "      <td>Malaysia</td>\n",
       "      <td>Peninsular Malaysia</td>\n",
       "      <td>Selangor</td>\n",
       "      <td>Kota Kemuning</td>\n",
       "      <td>42500</td>\n",
       "      <td>None</td>\n",
       "      <td>None</td>\n",
       "      <td>Persiaran Rimbayu</td>\n",
       "      <td>The Amber Residence</td>\n",
       "      <td>The Amber Residence</td>\n",
       "      <td>Selangor</td>\n",
       "      <td>Kota Kemuning</td>\n",
       "      <td>The Amber Residence</td>\n",
       "    </tr>\n",
       "    <tr>\n",
       "      <th>1</th>\n",
       "      <td>a443af86-f3f4-4e33-a1b1-e2c3c778e6e4</td>\n",
       "      <td>str_66918</td>\n",
       "      <td>None</td>\n",
       "      <td>STREET_NAME</td>\n",
       "      <td>jalan hang tuah</td>\n",
       "      <td>None</td>\n",
       "      <td>Malaysia</td>\n",
       "      <td>Peninsular Malaysia</td>\n",
       "      <td>Kuala Lumpur</td>\n",
       "      <td>KL City</td>\n",
       "      <td>None</td>\n",
       "      <td>None</td>\n",
       "      <td>None</td>\n",
       "      <td>Jalan Hang Tuah</td>\n",
       "      <td>None</td>\n",
       "      <td>Jalan Hang Tuah</td>\n",
       "      <td>Kuala Lumpur</td>\n",
       "      <td>KL City</td>\n",
       "      <td>None</td>\n",
       "    </tr>\n",
       "  </tbody>\n",
       "</table>\n",
       "</div>"
      ],
      "text/plain": [
       "                            location_id  global_id legacy_id  location_type  \\\n",
       "0  5eb32ff0-46cc-48a2-a3f3-4032c04f4d32  bld_67258      7067  BUILDING_NAME   \n",
       "1  a443af86-f3f4-4e33-a1b1-e2c3c778e6e4  str_66918      None    STREET_NAME   \n",
       "\n",
       "         location_name              geo_coordinate country_display_name  \\\n",
       "0  the amber residence  POINT(101.519839 2.971741)             Malaysia   \n",
       "1      jalan hang tuah                        None             Malaysia   \n",
       "\n",
       "   region_display_name state_display_name city_display_name  \\\n",
       "0  Peninsular Malaysia           Selangor     Kota Kemuning   \n",
       "1  Peninsular Malaysia       Kuala Lumpur           KL City   \n",
       "\n",
       "  postcode_display_name district_display_name div_display_name  \\\n",
       "0                 42500                  None             None   \n",
       "1                  None                  None             None   \n",
       "\n",
       "    str_display_name     bld_display_name         display_name map_location_1  \\\n",
       "0  Persiaran Rimbayu  The Amber Residence  The Amber Residence       Selangor   \n",
       "1    Jalan Hang Tuah                 None      Jalan Hang Tuah   Kuala Lumpur   \n",
       "\n",
       "  map_location_2       map_location_3  \n",
       "0  Kota Kemuning  The Amber Residence  \n",
       "1        KL City                 None  "
      ]
     },
     "execution_count": 5,
     "metadata": {},
     "output_type": "execute_result"
    }
   ],
   "source": [
    "# location data\n",
    "location_table = pq.read_table(\"data/my_locations_db.parquet\")\n",
    "location_db_df = location_table.to_pandas()\n",
    "location_db_df[\"display_name\"] = location_db_df.apply(display_name_mapping, axis=1)\n",
    "location_db_df[\"map_location_1\"] = location_db_df[\"state_display_name\"]\n",
    "location_db_df[\"map_location_2\"] = location_db_df[\"city_display_name\"]\n",
    "location_db_df[\"map_location_3\"] = location_db_df[\"bld_display_name\"]\n",
    "location_db_df.head(2)"
   ]
  },
  {
   "cell_type": "code",
   "execution_count": 6,
   "metadata": {},
   "outputs": [],
   "source": [
    "tmploc_df = location_db_df.copy(deep=True)[[\"global_id\", \"legacy_id\", \"location_type\", \"display_name\", \"map_location_1\", \"map_location_2\", \"map_location_3\"]]\n",
    "tmploc_df.drop_duplicates(subset=[\"global_id\"], keep=\"first\", inplace=True)\n",
    "tmploc_df.set_index(\"global_id\", drop=True, inplace=True)\n",
    "dict_loc = tmploc_df.to_dict(orient=\"index\")"
   ]
  },
  {
   "cell_type": "code",
   "execution_count": 7,
   "metadata": {},
   "outputs": [
    {
     "name": "stdout",
     "output_type": "stream",
     "text": [
      "Number of unique clientId: 120689\n"
     ]
    }
   ],
   "source": [
    "print(f\"Number of unique clientId: {df.clientId.nunique()}\")"
   ]
  },
  {
   "cell_type": "code",
   "execution_count": 8,
   "metadata": {},
   "outputs": [
    {
     "data": {
      "text/plain": [
       "(46176, 1)"
      ]
     },
     "execution_count": 8,
     "metadata": {},
     "output_type": "execute_result"
    }
   ],
   "source": [
    "tmp_df = df.copy(deep=True)\n",
    "tmp_df[\"seq\"] = tmp_df[[\"clientId\", \"visitMYDateTime\", \"visitId\", \"visitNumber\", \"hitNumber\", \"global_id\"]]\\\n",
    "    .sort_values([\"visitMYDateTime\", \"visitId\", \"visitNumber\", \"hitNumber\"],ascending=True)\\\n",
    "    .groupby(\"clientId\")[\"global_id\"]\\\n",
    "    .transform(lambda x: '||'.join(x))\n",
    "tmp_df = tmp_df[[\"seq\"]].drop_duplicates(keep=\"first\")\n",
    "tmp_df.shape"
   ]
  },
  {
   "cell_type": "code",
   "execution_count": 9,
   "metadata": {},
   "outputs": [
    {
     "name": "stderr",
     "output_type": "stream",
     "text": [
      "100%|██████████| 46176/46176 [00:00<00:00, 386082.92it/s]\n"
     ]
    }
   ],
   "source": [
    "list_seq = []\n",
    "for v in tqdm(tmp_df.seq.values, total=len(tmp_df.seq.values), position=0, leave=True):\n",
    "    list_seq.append([x[0] for x in groupby(v.split(\"||\"))])"
   ]
  },
  {
   "cell_type": "markdown",
   "metadata": {},
   "source": [
    "## Creating vocabs"
   ]
  },
  {
   "cell_type": "code",
   "execution_count": 10,
   "metadata": {},
   "outputs": [],
   "source": [
    "import pickle"
   ]
  },
  {
   "cell_type": "code",
   "execution_count": 11,
   "metadata": {},
   "outputs": [],
   "source": [
    "loc2idx = {w: idx for (idx, w) in enumerate(dict_loc)}\n",
    "idx2loc = {idx: w for (idx, w) in enumerate(dict_loc)}\n",
    "vocab_size = len(dict_loc)"
   ]
  },
  {
   "cell_type": "code",
   "execution_count": 12,
   "metadata": {},
   "outputs": [
    {
     "name": "stderr",
     "output_type": "stream",
     "text": [
      "100%|██████████| 46176/46176 [00:00<00:00, 96604.36it/s]\n"
     ]
    }
   ],
   "source": [
    "window_size = 5\n",
    "idx_pairs = []\n",
    "\n",
    "for sequence in tqdm(list_seq, total=len(list_seq), position=0, leave=True):\n",
    "    indices = [loc2idx[location] for location in sequence]\n",
    "    \n",
    "    # For each word, threated as center word\n",
    "    for center_loc_pos in range(len(indices)):\n",
    "        # For each window position\n",
    "        for w in range(-window_size, window_size + 1):\n",
    "            context_loc_pos = center_loc_pos + w\n",
    "            # Make soure not jump out sentence\n",
    "            if context_loc_pos < 0 or context_loc_pos >= len(indices) or center_loc_pos == context_loc_pos:\n",
    "                continue\n",
    "            context_loc_idx = indices[context_loc_pos]\n",
    "            idx_pairs.append((indices[center_loc_pos], context_loc_idx))\n",
    "\n",
    "idx_pairs = np.array(idx_pairs)\n",
    "pairs_df = pd.DataFrame(idx_pairs, columns=[\"loc_1\", \"loc_2\"]).drop_duplicates(keep=\"first\")"
   ]
  },
  {
   "cell_type": "markdown",
   "metadata": {},
   "source": [
    "## Test GPU"
   ]
  },
  {
   "cell_type": "code",
   "execution_count": 13,
   "metadata": {},
   "outputs": [],
   "source": [
    "import torch\n",
    "from torch.autograd import Variable\n",
    "import numpy as np\n",
    "import torch.functional as F\n",
    "import torch.nn.functional as F\n",
    "from torch import nn\n",
    "from torch import optim\n",
    "from torch.utils.data import Dataset\n",
    "from torch.utils.data import DataLoader"
   ]
  },
  {
   "cell_type": "code",
   "execution_count": 17,
   "metadata": {},
   "outputs": [],
   "source": [
    "device = torch.device('cuda' if torch.cuda.is_available() else 'cpu')\n",
    "\n",
    "if torch.cuda.is_available():\n",
    "    torch.cuda.set_device(0)\n",
    "    \n",
    "    print(torch.cuda.device_count())\n",
    "    print(torch.cuda.is_available())\n",
    "    print(torch.cuda.get_device_name(0))\n",
    "    \n",
    "    print('Memory Usage:')\n",
    "    print('Allocated:', round(torch.cuda.memory_allocated(0)/1024**3,1), 'GB')\n",
    "    print('Cached:   ', round(torch.cuda.memory_reserved(0)/1024**3,1), 'GB')"
   ]
  },
  {
   "cell_type": "code",
   "execution_count": 18,
   "metadata": {},
   "outputs": [
    {
     "name": "stdout",
     "output_type": "stream",
     "text": [
      "tensor([[ 0.2891, -0.4940]])\n",
      "tensor([[-0.7659, -1.5587]])\n"
     ]
    }
   ],
   "source": [
    "t1 = torch.randn(1,2)\n",
    "t2 = torch.randn(1,2).to(device)\n",
    "print(t1)\n",
    "print(t2)"
   ]
  },
  {
   "cell_type": "markdown",
   "metadata": {},
   "source": [
    "### Tensorboard Setup"
   ]
  },
  {
   "cell_type": "code",
   "execution_count": 19,
   "metadata": {},
   "outputs": [],
   "source": [
    "from torch.utils.tensorboard import SummaryWriter\n",
    "\n",
    "writer = SummaryWriter(comment=\"EMB.SKIPGRAM-META.v1\")"
   ]
  },
  {
   "cell_type": "markdown",
   "metadata": {},
   "source": [
    "## Modelling"
   ]
  },
  {
   "cell_type": "code",
   "execution_count": 21,
   "metadata": {},
   "outputs": [],
   "source": [
    "import gzip\n",
    "import pickle\n",
    "import datetime\n",
    "import itertools\n",
    "\n",
    "from typing import Any\n",
    "from collections import Counter\n",
    "from typing import Dict, List, Tuple\n",
    "\n",
    "# from src.config import MODEL_PATH\n",
    "# from src.utils.logger import logger\n",
    "# from src.ml.skipgram import SkipGram\n",
    "# from src.utils.io_utils import save_model\n",
    "# from src.ml.data_loader import Sequences, SequencesDataset\n",
    "\n",
    "%reload_ext autoreload\n",
    "%autoreload 2"
   ]
  },
  {
   "cell_type": "code",
   "execution_count": 23,
   "metadata": {},
   "outputs": [],
   "source": [
    "MODEL_PATH = \"models/skipgram-meta/\""
   ]
  },
  {
   "cell_type": "code",
   "execution_count": 22,
   "metadata": {},
   "outputs": [],
   "source": [
    "shuffle = True\n",
    "embedding_dims = 128\n",
    "epochs = 25\n",
    "initial_lr = 0.025\n",
    "batch_size = 16\n",
    "n_workers = 16"
   ]
  },
  {
   "cell_type": "code",
   "execution_count": 24,
   "metadata": {},
   "outputs": [],
   "source": [
    "def round_up(num, divisor=5):\n",
    "    return ((num + divisor - 1) // divisor) * divisor"
   ]
  },
  {
   "cell_type": "code",
   "execution_count": null,
   "metadata": {},
   "outputs": [],
   "source": []
  }
 ],
 "metadata": {
  "kernelspec": {
   "display_name": "Python 3",
   "language": "python",
   "name": "python3"
  },
  "language_info": {
   "codemirror_mode": {
    "name": "ipython",
    "version": 3
   },
   "file_extension": ".py",
   "mimetype": "text/x-python",
   "name": "python",
   "nbconvert_exporter": "python",
   "pygments_lexer": "ipython3",
   "version": "3.8.6"
  }
 },
 "nbformat": 4,
 "nbformat_minor": 4
}
